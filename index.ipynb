{
 "cells": [
  {
   "cell_type": "markdown",
   "metadata": {},
   "source": [
    "# Word Vectorization - Lab\n",
    "\n",
    "## Introduction\n",
    "\n",
    "In this lab, you'll tokenize and vectorize text documents, create and use a bag of words, and identify words unique to individual documents using TF-IDF vectorization. \n",
    "\n",
    "\n",
    "## Objectives\n",
    "\n",
    "In this lab you will:  \n",
    "\n",
    "- Implement tokenization and count vectorization from scratch \n",
    "- Implement TF-IDF from scratch \n",
    "- Use dimensionality reduction on vectorized text data to create and interpret visualizations \n",
    "\n",
    "## Let's get started!\n",
    "\n",
    "Run the cell below to import everything necessary for this lab.  "
   ]
  },
  {
   "cell_type": "code",
   "execution_count": 7,
   "metadata": {},
   "outputs": [],
   "source": [
    "import pandas as pd\n",
    "import numpy as np\n",
    "from mpl_toolkits.mplot3d import Axes3D\n",
    "import matplotlib.pyplot as plt\n",
    "%matplotlib inline\n",
    "from sklearn.manifold import TSNE\n",
    "from nltk.tokenize import word_tokenize\n",
    "import nltk\n",
    "nltk.download('punkt', quiet=True)\n",
    "np.random.seed(0)"
   ]
  },
  {
   "cell_type": "markdown",
   "metadata": {},
   "source": [
    "### Our Corpus\n",
    "\n",
    "In this lab, we'll be working with 20 different documents, each containing song lyrics from either Garth Brooks or Kendrick Lamar albums.  \n",
    "\n",
    "The songs are contained within the `data` subdirectory, contained within the same folder as this lab.  Each song is stored in a single file, with files ranging from `song1.txt` to `song20.txt`.  \n",
    "\n",
    "To make it easy to read in all of the documents, use a list comprehension to create a list containing the name of every single song file in the cell below. "
   ]
  },
  {
   "cell_type": "code",
   "execution_count": 8,
   "metadata": {},
   "outputs": [
    {
     "name": "stdout",
     "output_type": "stream",
     "text": [
      "['song1.txt', 'song2.txt', 'song3.txt', 'song4.txt', 'song5.txt', 'song6.txt', 'song7.txt', 'song8.txt', 'song9.txt', 'song10.txt', 'song11.txt', 'song12.txt', 'song13.txt', 'song14.txt', 'song15.txt', 'song16.txt', 'song17.txt', 'song18.txt', 'song19.txt', 'song20.txt']\n"
     ]
    }
   ],
   "source": [
    "filenames = [f\"song{i}.txt\" for i in range(1, 21)]\n",
    "print(filenames)"
   ]
  },
  {
   "cell_type": "markdown",
   "metadata": {},
   "source": [
    "Next, let's import a single song to see what our text looks like so that we can make sure we clean and tokenize it correctly. \n",
    "\n",
    "Use the code in the cell below to read in the lyrics from `song18.txt` as a list of lines, just using vanilla Python:"
   ]
  },
  {
   "cell_type": "code",
   "execution_count": 9,
   "metadata": {},
   "outputs": [
    {
     "data": {
      "text/plain": [
       "['[Kendrick Lamar:]\\n',\n",
       " \"Two wrongs don't make us right away\\n\",\n",
       " \"Tell me something's wrong\\n\",\n",
       " 'Party all of our lives away\\n',\n",
       " 'To take you on\\n',\n",
       " '[Zacari:]\\n',\n",
       " 'Oh, baby I want you\\n',\n",
       " 'Baby I need you\\n',\n",
       " 'I wanna see you\\n',\n",
       " 'Baby I wanna go out yeah\\n',\n",
       " 'Baby I wanna go out yeah\\n',\n",
       " 'Baby I want you\\n',\n",
       " 'Baby I need you\\n',\n",
       " 'I wanna see you\\n',\n",
       " 'Baby I wanna go out yeah\\n',\n",
       " 'Baby I wanna go out yeah\\n',\n",
       " 'All night (all night, all night)\\n',\n",
       " 'All night\\n',\n",
       " \"Your body's on fire\\n\",\n",
       " 'And your drinks on ice\\n',\n",
       " 'All night (all night, all night)\\n',\n",
       " 'All night\\n',\n",
       " \"Your body's on fire\\n\",\n",
       " 'And your drinks on ice\\n',\n",
       " '[Babes Wodumo:]\\n',\n",
       " 'Oh my word oh my gosh oh my word (Oh my gosh)\\n',\n",
       " 'Oh my word oh my gosh oh my word (Oh my gosh)\\n',\n",
       " 'Oh my word oh my gosh oh my word (Oh my gosh)\\n',\n",
       " 'Oh my word oh my gosh oh my word (Oh my gosh)\\n',\n",
       " 'Everybody say kikiritikiki (kikiritikiki)\\n',\n",
       " 'Everybody say kikiritikiki (kikiritikiki)\\n',\n",
       " 'Everybody say kikiritikiki (kikiritikiki)\\n',\n",
       " 'Everybody say kikiritikiki (kikiritikiki)\\n',\n",
       " \"Ung'bambe, ung'dedele. Ung'bhasobhe, ung'gudluke\\n\",\n",
       " \"Ung'bambe, ung'dedele. Ung'bhasobhe, ung'gudluke\\n\",\n",
       " \"Ung'bambe, ung'dedele. Ung'bhasobhe, ung'gudluke\\n\",\n",
       " \"Ung'bambe, ung'dedele. Ung'bhasobhe, ung'gudluke\\n\",\n",
       " '[Zacari:]\\n',\n",
       " 'Baby I want you\\n',\n",
       " 'Baby I need you\\n',\n",
       " 'I wanna see you\\n',\n",
       " 'Baby I wanna go out yeah\\n',\n",
       " 'Baby I wanna go out yeah\\n',\n",
       " 'Baby I want you\\n',\n",
       " 'Baby I need you\\n',\n",
       " 'I wanna see you\\n',\n",
       " 'Baby I wanna go out yeah\\n',\n",
       " 'Baby I wanna go out yeah\\n',\n",
       " 'All night (all night all night)\\n',\n",
       " 'All night\\n',\n",
       " \"Your body's on fire\\n\",\n",
       " 'And your drinks on ice\\n',\n",
       " 'All night (all night all night)\\n',\n",
       " 'All night\\n',\n",
       " \"Your body's on fire\\n\",\n",
       " 'And your drinks on ice\\n',\n",
       " '[Kendrick Lamar:]\\n',\n",
       " '(We go)\\n',\n",
       " 'High up (High up)\\n',\n",
       " 'High up (High up)\\n',\n",
       " 'High up (High up)\\n',\n",
       " 'High up (High up)\\n',\n",
       " 'High up (High up)\\n',\n",
       " 'High up (High up)\\n',\n",
       " 'High up (High up)\\n',\n",
       " 'High up (High up)\\n',\n",
       " '[?]\\n',\n",
       " '[Zacari:]\\n',\n",
       " 'Baby I want you\\n',\n",
       " 'Baby I need you\\n',\n",
       " 'I wanna see you\\n',\n",
       " 'Baby I wanna go out yeah\\n',\n",
       " 'Baby I wanna go out yeah\\n',\n",
       " 'Baby I want you\\n',\n",
       " 'Baby I need you\\n',\n",
       " 'I wanna see you\\n',\n",
       " 'Baby I wanna go out yeah\\n',\n",
       " 'Baby I wanna go out yeah\\n',\n",
       " 'All night (all night all night)\\n',\n",
       " 'All night\\n',\n",
       " \"Your body's on fire\\n\",\n",
       " 'And your drinks on ice\\n',\n",
       " 'All night (all night all night)\\n',\n",
       " 'All night\\n',\n",
       " \"Your body's on fire\\n\",\n",
       " 'And your drinks on ice\\n']"
      ]
     },
     "execution_count": 9,
     "metadata": {},
     "output_type": "execute_result"
    }
   ],
   "source": [
    "# Import and print song18.txt\n",
    "with open('data/song18.txt') as f:\n",
    "    test_song = f.readlines()\n",
    "    \n",
    "test_song"
   ]
  },
  {
   "cell_type": "markdown",
   "metadata": {},
   "source": [
    "### Tokenizing our Data\n",
    "\n",
    "Before we can create a bag of words or vectorize each document, we need to clean it up and split each song into an array of individual words.\n",
    "\n",
    "Consider the following sentences from the example above:\n",
    "\n",
    "`\"Two wrongs don't make us right away\\n\", \"Tell me something's wrong\\n\"`\n",
    "\n",
    "After tokenization, this should look like:\n",
    "\n",
    "`['two', 'wrongs', 'dont', 'make', 'us', 'right', 'away', 'tell', 'me', 'somethings', 'wrong']`\n",
    "\n",
    "Tokenization is pretty tedious if we handle it manually, and would probably make use of regular expressions, which is outside the scope of this lab. In order to keep this lab moving, we'll use a library function to clean and tokenize our data so that we can move onto vectorization.  \n",
    "\n",
    "Tokenization is a required task for just about any Natural Language Processing (NLP) task, so great industry-standard tools exist to tokenize things for us, so that we can spend our time on more important tasks without getting bogged down hunting every special symbol or punctuation in a massive dataset. For this lab, we'll make use of the tokenizer in the amazing `nltk` library, which is short for _Natural Language Tool Kit_.\n",
    "\n",
    "**_NOTE:_** NLTK requires extra installation methods to be run the first time certain methods are used.  If `nltk` throws you an error about needing to install additional packages, follow the instructions in the error message to install the dependencies, and then rerun the cell.  "
   ]
  },
  {
   "cell_type": "markdown",
   "metadata": {},
   "source": [
    "Before we tokenize, however, we need to do one more step! Computers are very particular about strings. If we tokenized our data in its current state, we would run into the following problems:\n",
    "\n",
    "- Counting things that aren't actually words.  In the example above, `\"[Kendrick Lamar:]\"` is a note specifying who is speaking, not a lyric contained in the actual song, so it should be removed. \n",
    "- Punctuation and capitalization would mess up our word counts. To the Python interpreter, `all`, `All`, and `(all` are unique words, and would all be counted separately.  We need to remove punctuation and capitalization, so that all words will be counted correctly. \n",
    "\n",
    "Before we tokenize our songs, we'll do only a small manual bit of cleaning. \n",
    "\n",
    "In the cell below, write a function to:\n",
    "- remove lines that just contain `['artist names']`\n",
    "- join the list of strings into one big string for the entire song\n",
    "- remove newline characters `\\n`\n",
    "- remove the following punctuation marks: `\",.'?!()\"`\n",
    "- make every word lowercase\n",
    "\n",
    "Test the function on `test_song` to show that it has successfully removed `'[Kendrick Lamar:]'` and other instances of artist names from the song, and is returning the song as one string (NOT a list of strings) with newlines (`\\n`) and punctuation removed and every word in lowercase."
   ]
  },
  {
   "cell_type": "code",
   "execution_count": 10,
   "metadata": {},
   "outputs": [
    {
     "name": "stdout",
     "output_type": "stream",
     "text": [
      "two wrongs dont make us right away  tell me somethings wrong  party all of our lives away  to take you on  oh baby i want you  baby i need you  i wanna see you  baby i wanna go out yeah  baby i wanna go out yeah  baby i want you  baby i need you  i wanna see you  baby i wanna go out yeah  baby i wanna go out yeah  all night all night all night  all night  your bodys on fire  and your drinks on ice  all night all night all night  all night  your bodys on fire  and your drinks on ice  oh my word oh my gosh oh my word oh my gosh  oh my word oh my gosh oh my word oh my gosh  oh my word oh my gosh oh my word oh my gosh  oh my word oh my gosh oh my word oh my gosh  everybody say kikiritikiki kikiritikiki  everybody say kikiritikiki kikiritikiki  everybody say kikiritikiki kikiritikiki  everybody say kikiritikiki kikiritikiki  ungbambe ungdedele ungbhasobhe unggudluke  ungbambe ungdedele ungbhasobhe unggudluke  ungbambe ungdedele ungbhasobhe unggudluke  ungbambe ungdedele ungbhasobhe unggudluke  baby i want you  baby i need you  i wanna see you  baby i wanna go out yeah  baby i wanna go out yeah  baby i want you  baby i need you  i wanna see you  baby i wanna go out yeah  baby i wanna go out yeah  all night all night all night  all night  your bodys on fire  and your drinks on ice  all night all night all night  all night  your bodys on fire  and your drinks on ice  we go  high up high up  high up high up  high up high up  high up high up  high up high up  high up high up  high up high up  high up high up  []  baby i want you  baby i need you  i wanna see you  baby i wanna go out yeah  baby i wanna go out yeah  baby i want you  baby i need you  i wanna see you  baby i wanna go out yeah  baby i wanna go out yeah  all night all night all night  all night  your bodys on fire  and your drinks on ice  all night all night all night  all night  your bodys on fire  and your drinks on ice \n"
     ]
    }
   ],
   "source": [
    "def clean_song(song):\n",
    "    # Remove lines that contain artist names (e.g., '[Kendrick Lamar:]')\n",
    "    song = [line for line in song if not (line.startswith('[') and line.endswith(':]\\n'))]\n",
    "    \n",
    "    # Join the list of strings into one big string\n",
    "    song = ' '.join(song)\n",
    "    \n",
    "    # Remove newline characters\n",
    "    song = song.replace('\\n', ' ')\n",
    "    \n",
    "    # Remove the specified punctuation marks\n",
    "    for char in '\",.\\'?!()':\n",
    "        song = song.replace(char, '')\n",
    "    \n",
    "    # Make every word lowercase\n",
    "    song = song.lower()\n",
    "    \n",
    "    return song\n",
    "\n",
    "\n",
    "clean_test_song = clean_song(test_song)\n",
    "print(clean_test_song)"
   ]
  },
  {
   "cell_type": "markdown",
   "metadata": {},
   "source": [
    "Great! Now, we can use `nltk`'s `word_tokenize()` function on the song string to get a fully tokenized version of the song. Test this function on `clean_test_song` to ensure that the function works. "
   ]
  },
  {
   "cell_type": "code",
   "execution_count": 11,
   "metadata": {},
   "outputs": [
    {
     "name": "stdout",
     "output_type": "stream",
     "text": [
      "['two', 'wrongs', 'dont', 'make', 'us', 'right', 'away', 'tell', 'me', 'somethings', 'wrong', 'party', 'all', 'of', 'our', 'lives', 'away', 'to', 'take', 'you', 'on', 'oh', 'baby', 'i', 'want', 'you', 'baby', 'i', 'need', 'you', 'i', 'wan', 'na', 'see', 'you', 'baby', 'i', 'wan', 'na', 'go', 'out', 'yeah', 'baby', 'i', 'wan', 'na', 'go', 'out', 'yeah', 'baby', 'i', 'want', 'you', 'baby', 'i', 'need', 'you', 'i', 'wan', 'na', 'see', 'you', 'baby', 'i', 'wan', 'na', 'go', 'out', 'yeah', 'baby', 'i', 'wan', 'na', 'go', 'out', 'yeah', 'all', 'night', 'all', 'night', 'all', 'night', 'all', 'night', 'your', 'bodys', 'on', 'fire', 'and', 'your', 'drinks', 'on', 'ice', 'all', 'night', 'all', 'night', 'all', 'night', 'all', 'night', 'your', 'bodys', 'on', 'fire', 'and', 'your', 'drinks', 'on', 'ice', 'oh', 'my', 'word', 'oh', 'my', 'gosh', 'oh', 'my', 'word', 'oh', 'my', 'gosh', 'oh', 'my', 'word', 'oh', 'my', 'gosh', 'oh', 'my', 'word', 'oh', 'my', 'gosh', 'oh', 'my', 'word', 'oh', 'my', 'gosh', 'oh', 'my', 'word', 'oh', 'my', 'gosh', 'oh', 'my', 'word', 'oh', 'my', 'gosh', 'oh', 'my', 'word', 'oh', 'my', 'gosh', 'everybody', 'say', 'kikiritikiki', 'kikiritikiki', 'everybody', 'say', 'kikiritikiki', 'kikiritikiki', 'everybody', 'say', 'kikiritikiki', 'kikiritikiki', 'everybody', 'say', 'kikiritikiki', 'kikiritikiki', 'ungbambe', 'ungdedele', 'ungbhasobhe', 'unggudluke', 'ungbambe', 'ungdedele', 'ungbhasobhe', 'unggudluke', 'ungbambe', 'ungdedele', 'ungbhasobhe', 'unggudluke', 'ungbambe', 'ungdedele', 'ungbhasobhe', 'unggudluke', 'baby', 'i', 'want', 'you', 'baby', 'i', 'need', 'you', 'i', 'wan', 'na', 'see', 'you', 'baby', 'i', 'wan', 'na', 'go', 'out', 'yeah', 'baby', 'i', 'wan', 'na', 'go', 'out', 'yeah', 'baby', 'i', 'want', 'you', 'baby', 'i', 'need', 'you', 'i', 'wan', 'na', 'see', 'you', 'baby', 'i', 'wan', 'na', 'go', 'out', 'yeah', 'baby', 'i', 'wan', 'na', 'go', 'out', 'yeah', 'all', 'night', 'all', 'night', 'all', 'night', 'all', 'night', 'your', 'bodys', 'on', 'fire', 'and', 'your', 'drinks', 'on', 'ice', 'all', 'night', 'all', 'night', 'all', 'night', 'all', 'night', 'your', 'bodys', 'on', 'fire', 'and', 'your', 'drinks', 'on', 'ice', 'we', 'go', 'high', 'up', 'high', 'up', 'high', 'up', 'high', 'up', 'high', 'up', 'high', 'up', 'high', 'up', 'high', 'up', 'high', 'up', 'high', 'up', 'high', 'up', 'high', 'up', 'high', 'up', 'high', 'up', 'high', 'up', 'high', 'up', '[', ']', 'baby', 'i', 'want', 'you', 'baby', 'i', 'need', 'you', 'i', 'wan', 'na', 'see', 'you', 'baby', 'i', 'wan', 'na', 'go', 'out', 'yeah', 'baby', 'i', 'wan', 'na', 'go', 'out', 'yeah', 'baby', 'i', 'want', 'you', 'baby', 'i', 'need', 'you', 'i', 'wan', 'na', 'see', 'you', 'baby', 'i', 'wan', 'na', 'go', 'out', 'yeah', 'baby', 'i', 'wan', 'na', 'go', 'out', 'yeah', 'all', 'night', 'all', 'night', 'all', 'night', 'all', 'night', 'your', 'bodys', 'on', 'fire', 'and', 'your', 'drinks', 'on', 'ice', 'all', 'night', 'all', 'night', 'all', 'night', 'all', 'night', 'your', 'bodys', 'on', 'fire', 'and', 'your', 'drinks', 'on', 'ice']\n"
     ]
    }
   ],
   "source": [
    "tokenized_test_song = tokenized_test_song = word_tokenize(clean_test_song)\n",
    "print(tokenized_test_song)"
   ]
  },
  {
   "cell_type": "markdown",
   "metadata": {},
   "source": [
    "Great! Now that we can tokenize our songs, we can move onto vectorization. \n",
    "\n",
    "\n",
    "### Count Vectorization\n",
    "\n",
    "Machine Learning algorithms don't understand strings. However, they do understand math, which means they understand vectors and matrices.  By **_Vectorizing_** the text, we just convert the entire text into a vector, where each element in the vector represents a different word. The vector is the length of the entire vocabulary -- usually, every word that occurs in the English language, or at least every word that appears in our corpus.  Any given sentence can then be represented as a vector where all the vector is 1 (or some other value) for each time that word appears in the sentence. \n",
    "\n",
    "Consider the following example: \n",
    "\n",
    "<center>\"I scream, you scream, we all scream for ice cream.\"</center>\n",
    "\n",
    "| 'aardvark' | 'apple' | [...] | 'I' | 'you' | 'scream' | 'we' | 'all' | 'for' | 'ice' | 'cream' | [...] | 'xylophone' | 'zebra' |\n",
    "|:----------:|:-------:|:-----:|:---:|:-----:|:--------:|:----:|:-----:|:-----:|:-----:|:-------:|:-----:|:-----------:|:-------:|\n",
    "|      0     |    0    |   0   |  1  |   1   |     3    |   1  |   1   |   1   |   1   |    1    |   0   |      0      |    0    |\n",
    "\n",
    "This is called a **_Sparse Representation_**, since the strong majority of the columns will have a value of 0.  Note that elements corresponding to words that do not occur in the sentence have a value of 0, while words that do appear in the sentence have a value of 1 (or 1 for each time it appears in the sentence).\n",
    "\n",
    "Alternatively, we can represent this sentence as a plain old Python dictionary of word frequency counts:\n",
    "\n",
    "```python\n",
    "BoW = {\n",
    "    'I':1,\n",
    "    'you':1,\n",
    "    'scream':3,\n",
    "    'we':1,\n",
    "    'all':1,\n",
    "    'for':1,\n",
    "    'ice':1,\n",
    "    'cream':1\n",
    "}\n",
    "```\n",
    "\n",
    "Both of these are examples of **_Count Vectorization_**. They allow us to represent a sentence as a vector, with each element in the vector corresponding to how many times that word is used.\n",
    "\n",
    "#### Positional Information and Bag of Words\n",
    "\n",
    "Notice that when we vectorize a sentence this way, we lose the order that the words were in.  This is the **_Bag of Words_** approach mentioned earlier.  Note that sentences that contain the same words will create the same vectors, even if they mean different things -- e.g. `'cats are scared of dogs'` and `'dogs are scared of cats'` would both produce the exact same vector, since they contain the same words.  "
   ]
  },
  {
   "cell_type": "markdown",
   "metadata": {},
   "source": [
    "In the cell below, create a function that takes in a tokenized, cleaned song and returns a count vectorized representation of it as a Python dictionary.\n",
    "\n",
    "**_Hint:_**  Consider using a `set()` since you'll need each unique word in the tokenized song! "
   ]
  },
  {
   "cell_type": "code",
   "execution_count": 13,
   "metadata": {
    "scrolled": true
   },
   "outputs": [
    {
     "name": "stdout",
     "output_type": "stream",
     "text": [
      "{'wrong': 1, 'and': 6, 'drinks': 6, 'of': 1, 'want': 6, 'gosh': 8, 'need': 6, 'see': 6, 'to': 1, 'we': 1, 'baby': 24, 'all': 25, 'take': 1, 'your': 12, 'out': 12, '[': 1, 'kikiritikiki': 8, 'ungdedele': 4, 'dont': 1, 'oh': 17, 'right': 1, 'tell': 1, 'wan': 18, 'somethings': 1, 'ungbambe': 4, 'yeah': 12, 'us': 1, 'lives': 1, 'party': 1, 'you': 19, 'night': 24, 'bodys': 6, 'unggudluke': 4, 'say': 4, 'make': 1, 'ungbhasobhe': 4, 'away': 2, 'high': 16, 'na': 18, 'me': 1, 'two': 1, 'up': 16, 'ice': 6, 'wrongs': 1, 'go': 13, 'fire': 6, 'everybody': 4, ']': 1, 'word': 8, 'our': 1, 'my': 16, 'on': 13, 'i': 30}\n"
     ]
    }
   ],
   "source": [
    "def count_vectorize(tokenized_song):\n",
    "    # Get unique words using a set\n",
    "    unique_words = set(tokenized_song)\n",
    "    \n",
    "    # Initialize a dictionary with each unique word set to 0\n",
    "    word_counts = {word: 0 for word in unique_words}\n",
    "    \n",
    "    # Count the occurrences of each word\n",
    "    for word in tokenized_song:\n",
    "        word_counts[word] += 1\n",
    "    \n",
    "    return word_counts\n",
    "\n",
    "test_vectorized = count_vectorize(tokenized_test_song)\n",
    "print(test_vectorized)"
   ]
  },
  {
   "cell_type": "markdown",
   "metadata": {},
   "source": [
    "Great! You've just successfully vectorized your first text document! Now, let's look at a more advanced type of vectorization, TF-IDF!\n",
    "\n",
    "### TF-IDF Vectorization\n",
    "\n",
    "TF-IDF stands for **_Term Frequency, Inverse Document Frequency_**.  This is a more advanced form of vectorization that weighs each term in a document by how unique it is to the given document it is contained in, which allows us to summarize the contents of a document using a few key words.  If the word is used often in many other documents, it is not unique, and therefore probably not too useful if we wanted to figure out how this document is unique in relation to other documents. Conversely, if a word is used many times in a document, but rarely in all the other documents we are considering, then it is likely a good indicator for telling us that this word is important to the document in question.  \n",
    "\n",
    "The formula TF-IDF uses to determine the weights of each term in a document is **_Term Frequency_** multiplied by **_Inverse Document Frequency_**. We just calculated our Term Frequency above with Count Vectorization!"
   ]
  },
  {
   "cell_type": "markdown",
   "metadata": {},
   "source": [
    "Now that we have this, we can easily calculate _Inverse Document Frequency_. Note that this will need ALL of our documents (aka our songs), not just an individual document - so we'll put off testing this function for now.\n",
    "\n",
    "In the cell below, complete a function that takes in a list of tokenized songs, with each item in the list being a clean, tokenized version of the song. The function should return a dictionary containing the inverse document frequency values for each word.  \n",
    "\n",
    "The formula for Inverse Document Frequency is:  \n",
    "<br>  \n",
    "<br>\n",
    "$$\\large \\text{IDF}(t) =  log_e(\\frac{\\text{Total Number of Documents}}{\\text{Number of Documents with } t \\text{ in it}})$$"
   ]
  },
  {
   "cell_type": "code",
   "execution_count": 14,
   "metadata": {},
   "outputs": [],
   "source": [
    "def inverse_document_frequency(list_of_token_songs):\n",
    "    # Total number of documents\n",
    "    total_documents = len(list_of_token_songs)\n",
    "    \n",
    "    # Dictionary to store the number of documents containing each word\n",
    "    word_document_counts = {}\n",
    "    \n",
    "    # Iterate over each tokenized song\n",
    "    for song in list_of_token_songs:\n",
    "        # Use a set to avoid counting the same word multiple times in a single document\n",
    "        unique_words = set(song)\n",
    "        for word in unique_words:\n",
    "            if word in word_document_counts:\n",
    "                word_document_counts[word] += 1\n",
    "            else:\n",
    "                word_document_counts[word] = 1\n",
    "    \n",
    "    # Dictionary to store the IDF values\n",
    "    idf_values = {}\n",
    "    \n",
    "    # Calculate the IDF for each word\n",
    "    for word, count in word_document_counts.items():\n",
    "        idf_values[word] = math.log(total_documents / count)\n",
    "    \n",
    "    return idf_values\n"
   ]
  },
  {
   "cell_type": "markdown",
   "metadata": {},
   "source": [
    "### Computing TF-IDF\n",
    "\n",
    "Now that we can compute both Term Frequency and Inverse Document Frequency, computing an overall TF-IDF value is simple! All we need to do is multiply the two values.  \n",
    "\n",
    "In the cell below, complete the `tf_idf()` function.  This function should take in a list of tokenized songs, just as the `inverse_document_frequency()` function did.  This function returns a new list of dictionaries, with each dictionary containing the tf-idf vectorized representation of a corresponding song document. You'll need to calculate the term frequency for each song using the `count_vectorize()` function we defined above.\n",
    "\n",
    "**_NOTE:_** Each document should contain the full vocabulary of the entire combined corpus! So, even if a song doesn't have the word \"kikiritikiki\" (a vocalization in our test song), it should have a dictionary entry with that word as the key and `0` as the value."
   ]
  },
  {
   "cell_type": "code",
   "execution_count": 15,
   "metadata": {},
   "outputs": [],
   "source": [
    "def tf_idf(list_of_token_songs):\n",
    "    # Compute the IDF values for the entire corpus\n",
    "    idf_values = inverse_document_frequency(list_of_token_songs)\n",
    "    \n",
    "    # Get the full vocabulary of the entire corpus\n",
    "    full_vocabulary = set()\n",
    "    for song in list_of_token_songs:\n",
    "        full_vocabulary.update(song)\n",
    "    \n",
    "    # Initialize the list to store the TF-IDF vectors for each song\n",
    "    tf_idf_list = []\n",
    "    \n",
    "    # Iterate over each tokenized song\n",
    "    for song in list_of_token_songs:\n",
    "        # Compute the term frequency (TF) for the song\n",
    "        tf_values = count_vectorize(song)\n",
    "        \n",
    "        # Initialize the TF-IDF vector for the song\n",
    "        tf_idf_vector = {}\n",
    "        \n",
    "        # Compute the TF-IDF value for each word in the full vocabulary\n",
    "        for word in full_vocabulary:\n",
    "            tf = tf_values.get(word, 0)\n",
    "            idf = idf_values[word]\n",
    "            tf_idf_vector[word] = tf * idf\n",
    "        \n",
    "        # Add the TF-IDF vector to the list\n",
    "        tf_idf_list.append(tf_idf_vector)\n",
    "    \n",
    "    return tf_idf_list\n"
   ]
  },
  {
   "cell_type": "markdown",
   "metadata": {},
   "source": [
    "### Vectorizing All Documents\n",
    "\n",
    "Now that we've created all the necessary helper functions, we can load in all of our documents and run each through the vectorization pipeline we've just created.\n",
    "\n",
    "In the cell below, complete the `main()` function.  This function should take in a list of file names (provided for you in the `filenames` list we created at the start), and then:\n",
    "\n",
    "- Read in each document into a list of raw songs (where each song is a list of strings)\n",
    "- Tokenize each document into a list of cleaned and tokenized songs\n",
    "- Return a list of dictionaries vectorized using `tf-idf`, where each dictionary is a vectorized representation of each song "
   ]
  },
  {
   "cell_type": "code",
   "execution_count": 19,
   "metadata": {},
   "outputs": [],
   "source": [
    "import os\n",
    "import math\n",
    "\n",
    "def main(filenames):\n",
    "    raw_songs = []\n",
    "    \n",
    "    # Read each document into a list of raw songs\n",
    "    for filename in filenames:\n",
    "        with open(os.path.join('data', filename), 'r', encoding='utf-8') as file:\n",
    "            raw_songs.append(file.readlines())\n",
    "    \n",
    "    # Clean and tokenize each song\n",
    "    tokenized_songs = []\n",
    "    for raw_song in raw_songs:\n",
    "        clean_song_str = clean_song(raw_song)\n",
    "        tokenized_song = word_tokenize(clean_song_str)\n",
    "        tokenized_songs.append(tokenized_song)\n",
    "    \n",
    "    # Vectorize the songs using tf-idf\n",
    "    tf_idf_all_docs = tf_idf(tokenized_songs)\n",
    "    \n",
    "    return tf_idf_all_docs\n",
    "\n",
    "\n",
    "tf_idf_all_docs = main(filenames)"
   ]
  },
  {
   "cell_type": "markdown",
   "metadata": {},
   "source": [
    "### Level Up: Visualizing our Vectorizations (Optional)\n",
    "\n",
    "Now that we have a tf-idf representation of each document, we can move on to the fun part -- visualizing everything!\n",
    "\n",
    "In the cell below, examine our dictionaries to figure out how many dimensions our dataset has. \n",
    "\n",
    "**_HINT_**: Remember that every word is its own dimension!"
   ]
  },
  {
   "cell_type": "code",
   "execution_count": 20,
   "metadata": {},
   "outputs": [
    {
     "name": "stdout",
     "output_type": "stream",
     "text": [
      "Number of Dimensions: 53\n"
     ]
    }
   ],
   "source": [
    "num_dims = len(test_vectorized)\n",
    "print(f\"Number of Dimensions: {num_dims}\")"
   ]
  },
  {
   "cell_type": "markdown",
   "metadata": {},
   "source": [
    "There are too many dimensions for us to visualize! In order to make it understandable to human eyes, we'll need to reduce it to 2 or 3 dimensions.  \n",
    "\n",
    "To do this, we'll use a technique called **_t-SNE_** (short for _t-Stochastic Neighbors Embedding_).  This is too complex for us to code ourselves, so we'll make use of scikit-learn's implementation of it.  \n",
    "\n",
    "First, we need to pull the words out of the dictionaries stored in `tf_idf_all_docs` so that only the values remain, and store them in lists instead of dictionaries.  This is because the t-SNE only works with array-like objects, not dictionaries.  \n",
    "\n",
    "In the cell below, create a list of lists that contains a list representation of the values of each of the dictionaries stored in `tf_idf_all_docs`.  The same structure should remain -- e.g. the first list should contain only the values that were in the first dictionary in `tf_idf_all_docs`, and so on. "
   ]
  },
  {
   "cell_type": "code",
   "execution_count": 22,
   "metadata": {},
   "outputs": [
    {
     "data": {
      "text/plain": [
       "[0.0, 0.0, 0.0, 0.0, 0.0, 0.0, 0.0, 0.0, 8.987196820661973, 0.0]"
      ]
     },
     "execution_count": 22,
     "metadata": {},
     "output_type": "execute_result"
    }
   ],
   "source": [
    "tf_idf_vals_list = []\n",
    "# Iterate through tf_idf_all_docs and extract values into lists\n",
    "for tfidf_dict in tf_idf_all_docs:\n",
    "    tfidf_values = list(tfidf_dict.values())\n",
    "    tf_idf_vals_list.append(tfidf_values)\n",
    "\n",
    "tf_idf_vals_list[0][:10]"
   ]
  },
  {
   "cell_type": "markdown",
   "metadata": {},
   "source": [
    "Now that we have only the values, we can use the `TSNE()` class from `sklearn` to transform our data appropriately. In the cell below, instantiate `TSNE()` with the following arguments:\n",
    "- `n_components=3` (so we can compare 2 vs 3 components when graphing)\n",
    "- `perplexity=19` (the highest number of neighbors explored given the size of our dataset)\n",
    "- `learning_rate=200` (a higher learning rate than using 'auto', to avoid getting stuck in a local minimum)\n",
    "- `init='random'` (so SKLearn will randomize the initialization)\n",
    "- `random_state=13` (so that random initialization won't be TOO random)\n",
    "\n",
    "Then, use the created object's `.fit_transform()` method to transform the data stored in `tf_idf_vals_list` into 3-dimensional data.  Then, inspect the newly transformed data to confirm that it has the correct dimensionality. "
   ]
  },
  {
   "cell_type": "code",
   "execution_count": 23,
   "metadata": {},
   "outputs": [
    {
     "data": {
      "text/plain": [
       "array([[-9.20935516e+01, -7.94377899e+01, -1.43137619e+02],\n",
       "       [-1.62192795e+02,  5.88886757e+01,  2.11596680e+02],\n",
       "       [ 1.55929947e+02,  1.71756485e+02,  8.76329575e+01],\n",
       "       [ 6.45607681e+01,  1.49067276e+02, -1.13457581e+02],\n",
       "       [ 4.38790512e+01, -1.09241974e+02, -6.63534775e-02],\n",
       "       [ 9.47314758e+01, -5.55100174e+01, -2.31235519e+02],\n",
       "       [ 1.72251297e+02, -2.00994873e+02, -3.25026459e+02],\n",
       "       [-1.74690063e+02, -2.18424850e+02, -1.93687725e+01],\n",
       "       [ 2.22984543e+02, -9.75563145e+00, -8.88536377e+01],\n",
       "       [-7.55780563e+01, -1.67005936e+02,  1.66377365e+02],\n",
       "       [-6.97624588e+01,  2.51360352e+02,  6.31217918e+01],\n",
       "       [ 7.67718353e+01,  1.42514696e+01,  1.91466080e+02],\n",
       "       [-6.73083191e+01,  6.29924202e+01, -2.87170563e+02],\n",
       "       [-1.81888000e+02,  1.90395081e+02,  3.87840576e+02],\n",
       "       [-2.55004791e+02, -2.28610020e+01,  3.35668449e+01],\n",
       "       [ 2.29710495e+02, -8.12660294e+01,  1.03220985e+02],\n",
       "       [-1.29298429e+01, -4.44328728e+01,  3.50325531e+02],\n",
       "       [-4.96025009e+01,  5.16363945e+01,  3.90191307e+01],\n",
       "       [ 8.48896790e+01, -2.94056915e+02, -3.28217621e+01],\n",
       "       [-1.85009109e+02,  1.30814835e+02, -1.09096085e+02]], dtype=float32)"
      ]
     },
     "execution_count": 23,
     "metadata": {},
     "output_type": "execute_result"
    }
   ],
   "source": [
    "from sklearn.manifold import TSNE\n",
    "t_sne_object_3d = TSNE(n_components=3, perplexity=19, learning_rate=200, init='random', random_state=13)\n",
    "\n",
    "transformed_data_3d = t_sne_object_3d.fit_transform(np.array(tf_idf_vals_list))\n",
    "transformed_data_3d"
   ]
  },
  {
   "cell_type": "markdown",
   "metadata": {},
   "source": [
    "We'll also want to check out how the visualization looks in 2d.  Repeat the process above, but this time, instantiate `TSNE()` with 2 components instead of 3.  Again, use `.fit_transform()` to transform the data and store it in the variable below, and then inspect it to confirm the transformed data has only 2 dimensions. "
   ]
  },
  {
   "cell_type": "code",
   "execution_count": 24,
   "metadata": {},
   "outputs": [
    {
     "data": {
      "text/plain": [
       "array([[ -53.28671  ,   35.666332 ],\n",
       "       [ 162.46043  ,   72.56552  ],\n",
       "       [ 106.5394   ,  -12.489277 ],\n",
       "       [ -40.268635 , -192.7594   ],\n",
       "       [  85.056114 ,  146.6578   ],\n",
       "       [ -92.52406  , -114.85782  ],\n",
       "       [  56.75609  ,  -70.27701  ],\n",
       "       [  -2.383511 , -119.356346 ],\n",
       "       [   2.9748287,   86.88034  ],\n",
       "       [ -12.190395 ,  168.75916  ],\n",
       "       [ 138.10564  , -105.009415 ],\n",
       "       [ -90.98958  ,  115.6163   ],\n",
       "       [ 189.16336  ,  -24.139519 ],\n",
       "       [-172.70143  ,  -65.778305 ],\n",
       "       [-151.28975  ,   45.95765  ],\n",
       "       [  70.347176 , -167.92609  ],\n",
       "       [  24.026918 ,    5.49672  ],\n",
       "       [-100.83861  ,  -25.074978 ],\n",
       "       [ -27.915438 ,  -47.577843 ],\n",
       "       [  78.47025  ,   61.962677 ]], dtype=float32)"
      ]
     },
     "execution_count": 24,
     "metadata": {},
     "output_type": "execute_result"
    }
   ],
   "source": [
    "t_sne_object_2d = TSNE(n_components=2, perplexity=19, learning_rate=200, init='random', random_state=13)\n",
    "\n",
    "transformed_data_2d = t_sne_object_2d.fit_transform(np.array(tf_idf_vals_list))\n",
    "transformed_data_2d"
   ]
  },
  {
   "cell_type": "markdown",
   "metadata": {},
   "source": [
    "Now, let's visualize everything!  Run the cell below to view both 3D and 2D visualizations of the songs."
   ]
  },
  {
   "cell_type": "code",
   "execution_count": 25,
   "metadata": {},
   "outputs": [
    {
     "data": {
      "image/png": "[encoded data removed]",
      "text/plain": [
       "<Figure size 1000x500 with 1 Axes>"
      ]
     },
     "metadata": {},
     "output_type": "display_data"
    },
    {
     "data": {
      "image/png": "[encoded data removed]",
      "text/plain": [
       "<Figure size 2000x1000 with 1 Axes>"
      ]
     },
     "metadata": {},
     "output_type": "display_data"
    }
   ],
   "source": [
    "kendrick_3d = transformed_data_3d[:10]\n",
    "k3_x = [i[0] for i in kendrick_3d]\n",
    "k3_y = [i[1] for i in kendrick_3d]\n",
    "k3_z = [i[2] for i in kendrick_3d]\n",
    "\n",
    "garth_3d = transformed_data_3d[10:]\n",
    "g3_x = [i[0] for i in garth_3d]\n",
    "g3_y = [i[1] for i in garth_3d]\n",
    "g3_z = [i[2] for i in garth_3d]\n",
    "\n",
    "fig = plt.figure(figsize=(10,5))\n",
    "ax = fig.add_subplot(111, projection='3d')\n",
    "ax.scatter(k3_x, k3_y, k3_z, c='b', s=60, label='Kendrick')\n",
    "ax.scatter(g3_x, g3_y, g3_z, c='red', s=60, label='Garth')\n",
    "ax.view_init(40,10)\n",
    "ax.legend()\n",
    "plt.show()\n",
    "\n",
    "kendrick_2d = transformed_data_2d[:10]\n",
    "k2_x = [i[0] for i in kendrick_2d]\n",
    "k2_y = [i[1] for i in kendrick_2d]\n",
    "\n",
    "garth_2d = transformed_data_2d[10:]\n",
    "g2_x = [i[0] for i in garth_2d]\n",
    "g2_y = [i[1] for i in garth_2d]\n",
    "\n",
    "fig = plt.figure(figsize=(20,10))\n",
    "ax = fig.add_subplot(222)\n",
    "ax.scatter(k2_x, k2_y, c='b', label='Kendrick')\n",
    "ax.scatter(g2_x, g2_y, c='red', label='Garth')\n",
    "ax.legend()\n",
    "plt.show()"
   ]
  },
  {
   "cell_type": "markdown",
   "metadata": {},
   "source": [
    "Interesting! Take a crack at interpreting these graphs by answering the following questions below:\n",
    "\n",
    "What does each graph mean? Do you find one graph more informative than the other? Do you think that this method shows us discernable differences between Kendrick Lamar songs and Garth Brooks songs?  Use the graphs and your understanding of TF-IDF to support your answer.  "
   ]
  },
  {
   "cell_type": "code",
   "execution_count": 26,
   "metadata": {},
   "outputs": [
    {
     "data": {
      "text/plain": [
       "'\\nBoth the 3D and 2D visualizations offer insights into how these differences manifest\\nin a reduced-dimensional space. While the 3D plot captures more complex relationships, \\nthe 2D plot provides a clearer view of separation and clustering.\\nTogether, they illustrate how effectivelyTF-IDF and dimensionality reduction \\ntechniques can reveal patterns in text data, here applied to song lyrics.\\n'"
      ]
     },
     "execution_count": 26,
     "metadata": {},
     "output_type": "execute_result"
    }
   ],
   "source": [
    "'''\n",
    "Both the 3D and 2D visualizations offer insights into how these differences manifest\n",
    "in a reduced-dimensional space. While the 3D plot captures more complex relationships, \n",
    "the 2D plot provides a clearer view of separation and clustering.\n",
    "Together, they illustrate how effectivelyTF-IDF and dimensionality reduction \n",
    "techniques can reveal patterns in text data, here applied to song lyrics.\n",
    "'''"
   ]
  },
  {
   "cell_type": "markdown",
   "metadata": {},
   "source": [
    "## Summary\n",
    "\n",
    "In this lab, you learned how to: \n",
    "* Tokenize a corpus of words and identify the different choices to be made while parsing them \n",
    "* Use a count vectorization strategy to create a bag of words\n",
    "* Use TF-IDF vectorization with multiple documents to identify words that are important/unique to certain documents\n",
    "* Visualize and compare vectorized text documents"
   ]
  }
 ],
 "metadata": {
  "kernelspec": {
   "display_name": "Python (learn-env)",
   "language": "python",
   "name": "learn-env"
  },
  "language_info": {
   "codemirror_mode": {
    "name": "ipython",
    "version": 3
   },
   "file_extension": ".py",
   "mimetype": "text/x-python",
   "name": "python",
   "nbconvert_exporter": "python",
   "pygments_lexer": "ipython3",
   "version": "3.11.5"
  }
 },
 "nbformat": 4,
 "nbformat_minor": 2
}
